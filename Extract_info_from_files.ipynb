{
  "nbformat": 4,
  "nbformat_minor": 0,
  "metadata": {
    "colab": {
      "provenance": [],
      "authorship_tag": "ABX9TyPPjK7t48F1+MrYMQ8y7s3w",
      "include_colab_link": true
    },
    "kernelspec": {
      "name": "python3",
      "display_name": "Python 3"
    },
    "language_info": {
      "name": "python"
    }
  },
  "cells": [
    {
      "cell_type": "markdown",
      "metadata": {
        "id": "view-in-github",
        "colab_type": "text"
      },
      "source": [
        "<a href=\"https://colab.research.google.com/github/Pratyusha0512/Movie-recommendation-system/blob/main/Untitled0.ipynb\" target=\"_parent\"><img src=\"https://colab.research.google.com/assets/colab-badge.svg\" alt=\"Open In Colab\"/></a>"
      ]
    },
    {
      "cell_type": "code",
      "execution_count": null,
      "metadata": {
        "colab": {
          "base_uri": "https://localhost:8080/"
        },
        "id": "wGNmu3GrY9gF",
        "outputId": "a28b8524-e1bd-42a2-b0e8-49d123d1ccd2"
      },
      "outputs": [
        {
          "output_type": "stream",
          "name": "stdout",
          "text": [
            "Requirement already satisfied: python-docx in /usr/local/lib/python3.10/dist-packages (1.1.0)\n",
            "Requirement already satisfied: lxml>=3.1.0 in /usr/local/lib/python3.10/dist-packages (from python-docx) (4.9.4)\n",
            "Requirement already satisfied: typing-extensions in /usr/local/lib/python3.10/dist-packages (from python-docx) (4.10.0)\n"
          ]
        }
      ],
      "source": [
        "!pip install python-docx"
      ]
    },
    {
      "cell_type": "code",
      "source": [
        "!pip install docx2txt"
      ],
      "metadata": {
        "colab": {
          "base_uri": "https://localhost:8080/"
        },
        "id": "DQv4tlJsZFWp",
        "outputId": "31895f4d-2d3d-4dc1-befa-489be846e01f"
      },
      "execution_count": null,
      "outputs": [
        {
          "output_type": "stream",
          "name": "stdout",
          "text": [
            "Requirement already satisfied: docx2txt in /usr/local/lib/python3.10/dist-packages (0.8)\n"
          ]
        }
      ]
    },
    {
      "cell_type": "code",
      "source": [
        "!pip install PyPDF2"
      ],
      "metadata": {
        "colab": {
          "base_uri": "https://localhost:8080/"
        },
        "id": "kCIJyZhcZFzm",
        "outputId": "1e5f772a-0828-4aea-a279-f1abcf5f1ca2"
      },
      "execution_count": null,
      "outputs": [
        {
          "output_type": "stream",
          "name": "stdout",
          "text": [
            "Requirement already satisfied: PyPDF2 in /usr/local/lib/python3.10/dist-packages (3.0.1)\n"
          ]
        }
      ]
    },
    {
      "cell_type": "code",
      "source": [
        "!pip install textract"
      ],
      "metadata": {
        "colab": {
          "base_uri": "https://localhost:8080/"
        },
        "id": "DsaHfq3vZF1f",
        "outputId": "35a58039-f3c8-4882-c7c0-d33f991cb25e"
      },
      "execution_count": null,
      "outputs": [
        {
          "output_type": "stream",
          "name": "stdout",
          "text": [
            "Requirement already satisfied: textract in /usr/local/lib/python3.10/dist-packages (1.6.5)\n",
            "Requirement already satisfied: argcomplete~=1.10.0 in /usr/local/lib/python3.10/dist-packages (from textract) (1.10.3)\n",
            "Requirement already satisfied: beautifulsoup4~=4.8.0 in /usr/local/lib/python3.10/dist-packages (from textract) (4.8.2)\n",
            "Requirement already satisfied: chardet==3.* in /usr/local/lib/python3.10/dist-packages (from textract) (3.0.4)\n",
            "Requirement already satisfied: docx2txt~=0.8 in /usr/local/lib/python3.10/dist-packages (from textract) (0.8)\n",
            "Requirement already satisfied: extract-msg<=0.29.* in /usr/local/lib/python3.10/dist-packages (from textract) (0.28.7)\n",
            "Requirement already satisfied: pdfminer.six==20191110 in /usr/local/lib/python3.10/dist-packages (from textract) (20191110)\n",
            "Requirement already satisfied: python-pptx~=0.6.18 in /usr/local/lib/python3.10/dist-packages (from textract) (0.6.23)\n",
            "Requirement already satisfied: six~=1.12.0 in /usr/local/lib/python3.10/dist-packages (from textract) (1.12.0)\n",
            "Requirement already satisfied: SpeechRecognition~=3.8.1 in /usr/local/lib/python3.10/dist-packages (from textract) (3.8.1)\n",
            "Requirement already satisfied: xlrd~=1.2.0 in /usr/local/lib/python3.10/dist-packages (from textract) (1.2.0)\n",
            "Requirement already satisfied: pycryptodome in /usr/local/lib/python3.10/dist-packages (from pdfminer.six==20191110->textract) (3.20.0)\n",
            "Requirement already satisfied: sortedcontainers in /usr/local/lib/python3.10/dist-packages (from pdfminer.six==20191110->textract) (2.4.0)\n",
            "Requirement already satisfied: soupsieve>=1.2 in /usr/local/lib/python3.10/dist-packages (from beautifulsoup4~=4.8.0->textract) (2.5)\n",
            "Requirement already satisfied: imapclient==2.1.0 in /usr/local/lib/python3.10/dist-packages (from extract-msg<=0.29.*->textract) (2.1.0)\n",
            "Requirement already satisfied: olefile>=0.46 in /usr/local/lib/python3.10/dist-packages (from extract-msg<=0.29.*->textract) (0.47)\n",
            "Requirement already satisfied: tzlocal>=2.1 in /usr/local/lib/python3.10/dist-packages (from extract-msg<=0.29.*->textract) (5.2)\n",
            "Requirement already satisfied: compressed-rtf>=1.0.6 in /usr/local/lib/python3.10/dist-packages (from extract-msg<=0.29.*->textract) (1.0.6)\n",
            "Requirement already satisfied: ebcdic>=1.1.1 in /usr/local/lib/python3.10/dist-packages (from extract-msg<=0.29.*->textract) (1.1.1)\n",
            "Requirement already satisfied: lxml>=3.1.0 in /usr/local/lib/python3.10/dist-packages (from python-pptx~=0.6.18->textract) (4.9.4)\n",
            "Requirement already satisfied: Pillow>=3.3.2 in /usr/local/lib/python3.10/dist-packages (from python-pptx~=0.6.18->textract) (9.4.0)\n",
            "Requirement already satisfied: XlsxWriter>=0.5.7 in /usr/local/lib/python3.10/dist-packages (from python-pptx~=0.6.18->textract) (3.2.0)\n"
          ]
        }
      ]
    },
    {
      "cell_type": "code",
      "source": [
        "#Working Code\n",
        "import re\n",
        "import pandas as pd\n",
        "import pdfplumber\n",
        "from docx import Document\n",
        "from io import BytesIO\n",
        "from google.colab import files\n",
        "\n",
        "def extract_info(text, name, unique_names):\n",
        "    sentences = re.split(r'(?<!\\w\\.\\w.)(?<![A-Z][a-z]\\.)(?<=\\.|\\?)\\s', text)\n",
        "\n",
        "    emails = []\n",
        "    phones = []\n",
        "    for sentence in sentences:\n",
        "        email_match = re.findall(r'\\b[A-Za-z0-9._%+-]+@[A-Za-z0-9.-]+\\.[A-Za-z]{2,}\\b', sentence)\n",
        "        if email_match:\n",
        "            emails.extend(email_match)\n",
        "\n",
        "        phone_match = re.findall(r'\\b(?:\\+[-\\s]?\\d{1,3}[-\\s]?)?(?:[2-9]\\d{9}\\b|\\d{11}\\b)', sentence)\n",
        "        if phone_match:\n",
        "            phones.extend(phone_match)\n",
        "\n",
        "    unique_emails = list(set(emails))\n",
        "    unique_phones = list(set(phones))\n",
        "\n",
        "    email = unique_emails[0] if unique_emails else None\n",
        "    phone = ', '.join(unique_phones) if unique_phones else None\n",
        "\n",
        "    text = re.sub(r'\\b[A-Za-z0-9._%+-]+@[A-Za-z0-9.-]+\\.[A-Za-z]{2,}\\b|\\b(?:\\+[-\\s]?\\d{1,3}[-\\s]?)?(?:[2-9]\\d{9}\\b|\\d{11}\\b)', '', text)\n",
        "\n",
        "    if name:\n",
        "        name = ''.join(filter(str.isalpha, name))\n",
        "        if name not in unique_names:\n",
        "            unique_names.append(name)\n",
        "        else:\n",
        "            name = None\n",
        "\n",
        "    return name, email, phone, text\n",
        "\n",
        "def process_pdf(file_content, name, unique_names):\n",
        "    data = []\n",
        "    with pdfplumber.open(io.BytesIO(file_content)) as pdf:\n",
        "        for page in pdf.pages:\n",
        "            text = page.extract_text()\n",
        "            info = extract_info(text, name, unique_names)\n",
        "            data.append(info)\n",
        "    return data\n",
        "\n",
        "def process_docx(file_content, name, unique_names):\n",
        "    data = []\n",
        "    text = \"\"\n",
        "    doc = Document(io.BytesIO(file_content))\n",
        "    for paragraph in doc.paragraphs:\n",
        "        text += paragraph.text\n",
        "    info = extract_info(text, name, unique_names)\n",
        "    data.append(info)\n",
        "    return data\n",
        "\n",
        "def process_uploaded_files(uploaded_files):\n",
        "    data = []\n",
        "    unique_names = []\n",
        "    for file_name, file_content in uploaded_files.items():\n",
        "        name, ext = os.path.splitext(file_name)\n",
        "        if ext.lower() == \".pdf\":\n",
        "            data.extend(process_pdf(file_content, name, unique_names))  # Pass unique_names\n",
        "        elif ext.lower() == \".docx\":\n",
        "            data.extend(process_docx(file_content, name, unique_names))  # Pass unique_names\n",
        "    return data\n",
        "\n",
        "print(\"Please upload files:\")\n",
        "uploaded_files = files.upload()\n",
        "\n",
        "data = process_uploaded_files(uploaded_files)\n",
        "\n",
        "df = pd.DataFrame(data, columns=['Name', 'Email', 'Phone Number', 'Text'])\n",
        "\n",
        "output_file = \"extracted_information.xlsx\"\n",
        "df.to_excel(output_file, index=False)\n",
        "print(\"Extraction complete. Output saved to\", output_file)\n"
      ],
      "metadata": {
        "colab": {
          "base_uri": "https://localhost:8080/",
          "height": 836
        },
        "id": "5YslP47dvgZI",
        "outputId": "bf46fb1d-f3aa-4852-e439-beaeb9807f45"
      },
      "execution_count": 85,
      "outputs": [
        {
          "output_type": "stream",
          "name": "stdout",
          "text": [
            "Please upload files:\n"
          ]
        },
        {
          "output_type": "display_data",
          "data": {
            "text/plain": [
              "<IPython.core.display.HTML object>"
            ],
            "text/html": [
              "\n",
              "     <input type=\"file\" id=\"files-9d1caf35-8b4d-4bcb-8182-f6af26c0bb05\" name=\"files[]\" multiple disabled\n",
              "        style=\"border:none\" />\n",
              "     <output id=\"result-9d1caf35-8b4d-4bcb-8182-f6af26c0bb05\">\n",
              "      Upload widget is only available when the cell has been executed in the\n",
              "      current browser session. Please rerun this cell to enable.\n",
              "      </output>\n",
              "      <script>// Copyright 2017 Google LLC\n",
              "//\n",
              "// Licensed under the Apache License, Version 2.0 (the \"License\");\n",
              "// you may not use this file except in compliance with the License.\n",
              "// You may obtain a copy of the License at\n",
              "//\n",
              "//      http://www.apache.org/licenses/LICENSE-2.0\n",
              "//\n",
              "// Unless required by applicable law or agreed to in writing, software\n",
              "// distributed under the License is distributed on an \"AS IS\" BASIS,\n",
              "// WITHOUT WARRANTIES OR CONDITIONS OF ANY KIND, either express or implied.\n",
              "// See the License for the specific language governing permissions and\n",
              "// limitations under the License.\n",
              "\n",
              "/**\n",
              " * @fileoverview Helpers for google.colab Python module.\n",
              " */\n",
              "(function(scope) {\n",
              "function span(text, styleAttributes = {}) {\n",
              "  const element = document.createElement('span');\n",
              "  element.textContent = text;\n",
              "  for (const key of Object.keys(styleAttributes)) {\n",
              "    element.style[key] = styleAttributes[key];\n",
              "  }\n",
              "  return element;\n",
              "}\n",
              "\n",
              "// Max number of bytes which will be uploaded at a time.\n",
              "const MAX_PAYLOAD_SIZE = 100 * 1024;\n",
              "\n",
              "function _uploadFiles(inputId, outputId) {\n",
              "  const steps = uploadFilesStep(inputId, outputId);\n",
              "  const outputElement = document.getElementById(outputId);\n",
              "  // Cache steps on the outputElement to make it available for the next call\n",
              "  // to uploadFilesContinue from Python.\n",
              "  outputElement.steps = steps;\n",
              "\n",
              "  return _uploadFilesContinue(outputId);\n",
              "}\n",
              "\n",
              "// This is roughly an async generator (not supported in the browser yet),\n",
              "// where there are multiple asynchronous steps and the Python side is going\n",
              "// to poll for completion of each step.\n",
              "// This uses a Promise to block the python side on completion of each step,\n",
              "// then passes the result of the previous step as the input to the next step.\n",
              "function _uploadFilesContinue(outputId) {\n",
              "  const outputElement = document.getElementById(outputId);\n",
              "  const steps = outputElement.steps;\n",
              "\n",
              "  const next = steps.next(outputElement.lastPromiseValue);\n",
              "  return Promise.resolve(next.value.promise).then((value) => {\n",
              "    // Cache the last promise value to make it available to the next\n",
              "    // step of the generator.\n",
              "    outputElement.lastPromiseValue = value;\n",
              "    return next.value.response;\n",
              "  });\n",
              "}\n",
              "\n",
              "/**\n",
              " * Generator function which is called between each async step of the upload\n",
              " * process.\n",
              " * @param {string} inputId Element ID of the input file picker element.\n",
              " * @param {string} outputId Element ID of the output display.\n",
              " * @return {!Iterable<!Object>} Iterable of next steps.\n",
              " */\n",
              "function* uploadFilesStep(inputId, outputId) {\n",
              "  const inputElement = document.getElementById(inputId);\n",
              "  inputElement.disabled = false;\n",
              "\n",
              "  const outputElement = document.getElementById(outputId);\n",
              "  outputElement.innerHTML = '';\n",
              "\n",
              "  const pickedPromise = new Promise((resolve) => {\n",
              "    inputElement.addEventListener('change', (e) => {\n",
              "      resolve(e.target.files);\n",
              "    });\n",
              "  });\n",
              "\n",
              "  const cancel = document.createElement('button');\n",
              "  inputElement.parentElement.appendChild(cancel);\n",
              "  cancel.textContent = 'Cancel upload';\n",
              "  const cancelPromise = new Promise((resolve) => {\n",
              "    cancel.onclick = () => {\n",
              "      resolve(null);\n",
              "    };\n",
              "  });\n",
              "\n",
              "  // Wait for the user to pick the files.\n",
              "  const files = yield {\n",
              "    promise: Promise.race([pickedPromise, cancelPromise]),\n",
              "    response: {\n",
              "      action: 'starting',\n",
              "    }\n",
              "  };\n",
              "\n",
              "  cancel.remove();\n",
              "\n",
              "  // Disable the input element since further picks are not allowed.\n",
              "  inputElement.disabled = true;\n",
              "\n",
              "  if (!files) {\n",
              "    return {\n",
              "      response: {\n",
              "        action: 'complete',\n",
              "      }\n",
              "    };\n",
              "  }\n",
              "\n",
              "  for (const file of files) {\n",
              "    const li = document.createElement('li');\n",
              "    li.append(span(file.name, {fontWeight: 'bold'}));\n",
              "    li.append(span(\n",
              "        `(${file.type || 'n/a'}) - ${file.size} bytes, ` +\n",
              "        `last modified: ${\n",
              "            file.lastModifiedDate ? file.lastModifiedDate.toLocaleDateString() :\n",
              "                                    'n/a'} - `));\n",
              "    const percent = span('0% done');\n",
              "    li.appendChild(percent);\n",
              "\n",
              "    outputElement.appendChild(li);\n",
              "\n",
              "    const fileDataPromise = new Promise((resolve) => {\n",
              "      const reader = new FileReader();\n",
              "      reader.onload = (e) => {\n",
              "        resolve(e.target.result);\n",
              "      };\n",
              "      reader.readAsArrayBuffer(file);\n",
              "    });\n",
              "    // Wait for the data to be ready.\n",
              "    let fileData = yield {\n",
              "      promise: fileDataPromise,\n",
              "      response: {\n",
              "        action: 'continue',\n",
              "      }\n",
              "    };\n",
              "\n",
              "    // Use a chunked sending to avoid message size limits. See b/62115660.\n",
              "    let position = 0;\n",
              "    do {\n",
              "      const length = Math.min(fileData.byteLength - position, MAX_PAYLOAD_SIZE);\n",
              "      const chunk = new Uint8Array(fileData, position, length);\n",
              "      position += length;\n",
              "\n",
              "      const base64 = btoa(String.fromCharCode.apply(null, chunk));\n",
              "      yield {\n",
              "        response: {\n",
              "          action: 'append',\n",
              "          file: file.name,\n",
              "          data: base64,\n",
              "        },\n",
              "      };\n",
              "\n",
              "      let percentDone = fileData.byteLength === 0 ?\n",
              "          100 :\n",
              "          Math.round((position / fileData.byteLength) * 100);\n",
              "      percent.textContent = `${percentDone}% done`;\n",
              "\n",
              "    } while (position < fileData.byteLength);\n",
              "  }\n",
              "\n",
              "  // All done.\n",
              "  yield {\n",
              "    response: {\n",
              "      action: 'complete',\n",
              "    }\n",
              "  };\n",
              "}\n",
              "\n",
              "scope.google = scope.google || {};\n",
              "scope.google.colab = scope.google.colab || {};\n",
              "scope.google.colab._files = {\n",
              "  _uploadFiles,\n",
              "  _uploadFilesContinue,\n",
              "};\n",
              "})(self);\n",
              "</script> "
            ]
          },
          "metadata": {}
        },
        {
          "output_type": "stream",
          "name": "stdout",
          "text": [
            "Saving RamanKumar.docx to RamanKumar (1).docx\n",
            "Saving RohitBhatt.docx to RohitBhatt.docx\n",
            "Saving Satyadev.docx to Satyadev.docx\n",
            "Saving VijayKumarS.docx to VijayKumarS.docx\n",
            "Saving heemSen.docx to heemSen.docx\n",
            "Saving ManrajMeena.docx to ManrajMeena.docx\n",
            "Saving MINTUKMUAR.docx to MINTUKMUAR.docx\n",
            "Saving NavinShakti.docx to NavinShakti.docx\n",
            "Saving AarushiRohatgi.pdf to AarushiRohatgi.pdf\n",
            "Saving AkashGoel.docx to AkashGoel (1).docx\n",
            "Saving AkashSharma.pdf to AkashSharma.pdf\n",
            "Saving AnamRehman.docx to AnamRehman.docx\n",
            "Saving AnanyaDas.pdf to AnanyaDas.pdf\n",
            "Saving AnkitDadwal.pdf to AnkitDadwal.pdf\n",
            "Saving AnshulTiwari.pdf to AnshulTiwari.pdf\n",
            "Saving BHAWANISINGH.pdf to BHAWANISINGH.pdf\n",
            "Saving CAChamanKumar.pdf to CAChamanKumar.pdf\n",
            "Saving CAMonuKumarGupta.pdf to CAMonuKumarGupta.pdf\n",
            "Saving DeeptiDawani.pdf to DeeptiDawani.pdf\n",
            "Saving DineshKumar.pdf to DineshKumar.pdf\n",
            "Saving eepeshGuljani.pdf to eepeshGuljani.pdf\n",
            "Saving GauravKhurana.pdf to GauravKhurana.pdf\n",
            "Extraction complete. Output saved to extracted_information.xlsx\n"
          ]
        }
      ]
    },
    {
      "cell_type": "code",
      "source": [
        "#Code to delete all uploaded files from the content folder\n",
        "import os\n",
        "folder_path = \"/content\"\n",
        "\n",
        "contents = os.listdir(folder_path)\n",
        "for item in contents:\n",
        "    item_path = os.path.join(folder_path, item)\n",
        "    if item != \"extracted_information.xlsx\" and os.path.exists(item_path):\n",
        "        if os.path.isfile(item_path):\n",
        "            os.remove(item_path)\n",
        "            print(f\"Deleted file: {item_path}\")\n",
        "        elif os.path.isdir(item_path):\n",
        "            os.system(f\"rm -r {item_path}\")\n",
        "            print(f\"Deleted folder: {item_path}\")\n",
        "        else:\n",
        "            print(f\"Unknown item: {item_path}\")\n",
        "\n"
      ],
      "metadata": {
        "id": "cnXtIlLglSsm",
        "colab": {
          "base_uri": "https://localhost:8080/"
        },
        "outputId": "2013711c-6e7c-4e5f-9117-7998800b1c73"
      },
      "execution_count": 81,
      "outputs": [
        {
          "output_type": "stream",
          "name": "stdout",
          "text": [
            "Deleted file: /content/BHAWANISINGH.pdf\n",
            "Deleted file: /content/GauravKhurana.pdf\n",
            "Deleted file: /content/MINTUKMUAR.docx\n",
            "Deleted file: /content/AnamRehman.docx\n",
            "Deleted file: /content/AarushiRohatgi.pdf\n",
            "Deleted file: /content/CAChamanKumar.pdf\n",
            "Deleted file: /content/RohitBhatt.docx\n",
            "Deleted file: /content/AkashGoel.docx\n",
            "Deleted file: /content/DineshKumar.pdf\n",
            "Deleted file: /content/Satyadev.docx\n",
            "Deleted file: /content/AkashSharma.pdf\n",
            "Deleted file: /content/VijayKumarS.docx\n",
            "Deleted file: /content/AnshulTiwari.pdf\n",
            "Deleted file: /content/NavinShakti.docx\n",
            "Deleted file: /content/AnanyaDas.pdf\n",
            "Deleted file: /content/AnkitDadwal.pdf\n",
            "Deleted file: /content/ManrajMeena.docx\n",
            "Deleted file: /content/DeeptiDawani.pdf\n",
            "Deleted file: /content/eepeshGuljani.pdf\n",
            "Deleted file: /content/CAMonuKumarGupta.pdf\n",
            "Deleted file: /content/heemSen.docx\n",
            "Deleted file: /content/RamanKumar.docx\n"
          ]
        }
      ]
    }
  ]
}
